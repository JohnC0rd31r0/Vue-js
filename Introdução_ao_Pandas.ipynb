{
  "nbformat": 4,
  "nbformat_minor": 0,
  "metadata": {
    "colab": {
      "name": "Introdução ao Pandas.ipynb",
      "provenance": [],
      "collapsed_sections": [],
      "include_colab_link": true
    },
    "kernelspec": {
      "name": "python3",
      "display_name": "Python 3"
    }
  },
  "cells": [
    {
      "cell_type": "markdown",
      "metadata": {
        "id": "view-in-github",
        "colab_type": "text"
      },
      "source": [
        "<a href=\"https://colab.research.google.com/github/JohnC0rd31r0/Vue-js/blob/main/Introdu%C3%A7%C3%A3o_ao_Pandas.ipynb\" target=\"_parent\"><img src=\"https://colab.research.google.com/assets/colab-badge.svg\" alt=\"Open In Colab\"/></a>"
      ]
    },
    {
      "cell_type": "markdown",
      "metadata": {
        "id": "qVrLx8hyLOVP"
      },
      "source": [
        "# <font color='blue'>Introdução ao Pandas</font>"
      ]
    },
    {
      "cell_type": "markdown",
      "metadata": {
        "id": "mFYyFZr6Ll29"
      },
      "source": [
        "Pandas também é uma biblioteca Python que fornece ferramentas de análise de dados e estruturas de dados de alta performance e fáceis de usar.\n",
        "Por ser a principal e mais completa biblioteca para estes objetivos, Pandas é fundamental para Análise de Dados.\n",
        "\n",
        "Pandas permite trabalhar de forma rápida e eficiente com arquivos do tipo csv, excel, txt, etc.\n",
        "\n"
      ]
    },
    {
      "cell_type": "markdown",
      "metadata": {
        "id": "M4PPqg4BNccs"
      },
      "source": [
        "No código abaixo, os dados do ENEM 2019 são lidos e carregados numa estrutura do Pandas, para ser manipulado posteriormente. Os dados originais estão no formato [CSV](https://docs.python.org/pt-br/3/library/csv.html).\n"
      ]
    },
    {
      "cell_type": "code",
      "metadata": {
        "id": "oLtw9zLiUk7X"
      },
      "source": [
        "\n",
        "import pandas as pd # importa o módulo pandas\n",
        "\n",
        "fonte = \"https://github.com/alura-cursos/imersao-dados-2-2020/blob/master/MICRODADOS_ENEM_2019_SAMPLE_43278.csv?raw=true\"\n",
        "\n",
        "dados = pd.read_csv(fonte) #le o arquivo no formato csv\n",
        "dados.head() # mostra as primeiras 5 linhas do arquivo"
      ],
      "execution_count": null,
      "outputs": []
    },
    {
      "cell_type": "code",
      "metadata": {
        "id": "aKpA4wSgVYgO"
      },
      "source": [
        "# Como saber o formato da base de dados?\n",
        "# O formato é (linhas, colunas).\n",
        "dados.shape"
      ],
      "execution_count": null,
      "outputs": []
    },
    {
      "cell_type": "code",
      "metadata": {
        "id": "0wMSahLxXiXz"
      },
      "source": [
        "# Mostra o nome da todas as colunas da tabela.\n",
        "dados.columns.values"
      ],
      "execution_count": null,
      "outputs": []
    },
    {
      "cell_type": "code",
      "metadata": {
        "id": "1dogtdedWwiq"
      },
      "source": [
        "# Mostra os dados de uma coluna especificada.\n",
        "dados[\"SG_UF_RESIDENCIA\"]"
      ],
      "execution_count": null,
      "outputs": []
    },
    {
      "cell_type": "code",
      "metadata": {
        "id": "lL7OLIu6X2jT",
        "outputId": "897f9fbf-e4f1-4247-f042-36fa05c24ad3",
        "colab": {
          "base_uri": "https://localhost:8080/",
          "height": 419
        }
      },
      "source": [
        "# Mostra os dados de várias colunas.\n",
        "dados[[\"SG_UF_RESIDENCIA\", \"NO_MUNICIPIO_RESIDENCIA\"]]"
      ],
      "execution_count": 5,
      "outputs": [
        {
          "output_type": "execute_result",
          "data": {
            "text/html": [
              "<div>\n",
              "<style scoped>\n",
              "    .dataframe tbody tr th:only-of-type {\n",
              "        vertical-align: middle;\n",
              "    }\n",
              "\n",
              "    .dataframe tbody tr th {\n",
              "        vertical-align: top;\n",
              "    }\n",
              "\n",
              "    .dataframe thead th {\n",
              "        text-align: right;\n",
              "    }\n",
              "</style>\n",
              "<table border=\"1\" class=\"dataframe\">\n",
              "  <thead>\n",
              "    <tr style=\"text-align: right;\">\n",
              "      <th></th>\n",
              "      <th>SG_UF_RESIDENCIA</th>\n",
              "      <th>NO_MUNICIPIO_RESIDENCIA</th>\n",
              "    </tr>\n",
              "  </thead>\n",
              "  <tbody>\n",
              "    <tr>\n",
              "      <th>0</th>\n",
              "      <td>PA</td>\n",
              "      <td>Redenção</td>\n",
              "    </tr>\n",
              "    <tr>\n",
              "      <th>1</th>\n",
              "      <td>PA</td>\n",
              "      <td>Marabá</td>\n",
              "    </tr>\n",
              "    <tr>\n",
              "      <th>2</th>\n",
              "      <td>PA</td>\n",
              "      <td>Belém</td>\n",
              "    </tr>\n",
              "    <tr>\n",
              "      <th>3</th>\n",
              "      <td>PA</td>\n",
              "      <td>São Félix do Xingu</td>\n",
              "    </tr>\n",
              "    <tr>\n",
              "      <th>4</th>\n",
              "      <td>PA</td>\n",
              "      <td>Ananindeua</td>\n",
              "    </tr>\n",
              "    <tr>\n",
              "      <th>...</th>\n",
              "      <td>...</td>\n",
              "      <td>...</td>\n",
              "    </tr>\n",
              "    <tr>\n",
              "      <th>127375</th>\n",
              "      <td>MG</td>\n",
              "      <td>Montalvânia</td>\n",
              "    </tr>\n",
              "    <tr>\n",
              "      <th>127376</th>\n",
              "      <td>BA</td>\n",
              "      <td>Barra da Estiva</td>\n",
              "    </tr>\n",
              "    <tr>\n",
              "      <th>127377</th>\n",
              "      <td>BA</td>\n",
              "      <td>Salvador</td>\n",
              "    </tr>\n",
              "    <tr>\n",
              "      <th>127378</th>\n",
              "      <td>BA</td>\n",
              "      <td>Simões Filho</td>\n",
              "    </tr>\n",
              "    <tr>\n",
              "      <th>127379</th>\n",
              "      <td>MG</td>\n",
              "      <td>Belo Horizonte</td>\n",
              "    </tr>\n",
              "  </tbody>\n",
              "</table>\n",
              "<p>127380 rows × 2 columns</p>\n",
              "</div>"
            ],
            "text/plain": [
              "       SG_UF_RESIDENCIA NO_MUNICIPIO_RESIDENCIA\n",
              "0                    PA                Redenção\n",
              "1                    PA                  Marabá\n",
              "2                    PA                   Belém\n",
              "3                    PA      São Félix do Xingu\n",
              "4                    PA              Ananindeua\n",
              "...                 ...                     ...\n",
              "127375               MG             Montalvânia\n",
              "127376               BA         Barra da Estiva\n",
              "127377               BA                Salvador\n",
              "127378               BA            Simões Filho\n",
              "127379               MG          Belo Horizonte\n",
              "\n",
              "[127380 rows x 2 columns]"
            ]
          },
          "metadata": {},
          "execution_count": 5
        }
      ]
    },
    {
      "cell_type": "code",
      "metadata": {
        "id": "Bx9HSjLZUZL5"
      },
      "source": [
        "# Exercício\n",
        "# Mostre as informações de idade e sexo.\n"
      ],
      "execution_count": null,
      "outputs": []
    },
    {
      "cell_type": "code",
      "metadata": {
        "id": "RbpWvGkXdVs6"
      },
      "source": [
        "# Valores únicos (não repetidos) de Unidade da Federação.\n",
        "dados[\"SG_UF_RESIDENCIA\"].unique()"
      ],
      "execution_count": null,
      "outputs": []
    },
    {
      "cell_type": "code",
      "metadata": {
        "id": "Ni-WPU00Uy2T"
      },
      "source": [
        "# Exercício\n",
        "# Mostre os valores únicos (não repetidos) de idade\n"
      ],
      "execution_count": null,
      "outputs": []
    },
    {
      "cell_type": "code",
      "metadata": {
        "id": "wxQ6mjz8dvDA"
      },
      "source": [
        "# Temos inscritos de quantos estados da federação?\n",
        "len(dados[\"SG_UF_RESIDENCIA\"].unique())"
      ],
      "execution_count": null,
      "outputs": []
    },
    {
      "cell_type": "code",
      "metadata": {
        "id": "FgYrFI9asJTt"
      },
      "source": [
        "# Exercício\n",
        "# Temos inscritos de quantas cidades diferentes?\n"
      ],
      "execution_count": null,
      "outputs": []
    },
    {
      "cell_type": "code",
      "metadata": {
        "id": "YoHJelRbeR4e"
      },
      "source": [
        "# Quantos inscritos de cada estado temos?\n",
        "dados[\"SG_UF_RESIDENCIA\"].value_counts()"
      ],
      "execution_count": null,
      "outputs": []
    },
    {
      "cell_type": "code",
      "metadata": {
        "id": "Xl8r4YltikEc"
      },
      "source": [
        "# Exercício\n",
        "# Quantos inscritos de cada idade temos?\n"
      ],
      "execution_count": null,
      "outputs": []
    },
    {
      "cell_type": "code",
      "metadata": {
        "id": "tFpWf9Hbnujd"
      },
      "source": [
        "# Gráfico por idade.\n",
        "dados[\"NU_IDADE\"].hist(bins = 20,figsize = (10,8))"
      ],
      "execution_count": null,
      "outputs": []
    },
    {
      "cell_type": "code",
      "metadata": {
        "id": "qZMSJ6cEtwLF"
      },
      "source": [
        "# Exercício\n",
        "# Gráfico por UF\n"
      ],
      "execution_count": null,
      "outputs": []
    },
    {
      "cell_type": "code",
      "metadata": {
        "id": "mHd2UdsEqwIu"
      },
      "source": [
        "# Como posso ver apenas os treineiros?\n",
        "dados.query(\"IN_TREINEIRO == 1\")"
      ],
      "execution_count": null,
      "outputs": []
    },
    {
      "cell_type": "code",
      "metadata": {
        "id": "MBuuZtN1u2vL"
      },
      "source": [
        "# Como posso ver os inscritos que moram em Araquari?\n",
        "dados.query('NO_MUNICIPIO_RESIDENCIA == \"Araquari\"')"
      ],
      "execution_count": null,
      "outputs": []
    },
    {
      "cell_type": "code",
      "metadata": {
        "id": "ifZQaCiS_9JJ"
      },
      "source": [
        "# Ver apenas alguns campos (idade, local de residencia) dos inscritos com 13 anos.\n",
        "dados.query(\"NU_IDADE == 13\")[[\"NU_IDADE\",\"SG_UF_RESIDENCIA\"]]"
      ],
      "execution_count": null,
      "outputs": []
    },
    {
      "cell_type": "code",
      "metadata": {
        "id": "2OnKzgE9CPEq"
      },
      "source": [
        "# Alunos com 14 anos ou menos, por estado.\n",
        "dados.query(\"NU_IDADE <= 14\")[\"SG_UF_RESIDENCIA\"].value_counts()"
      ],
      "execution_count": null,
      "outputs": []
    },
    {
      "cell_type": "code",
      "metadata": {
        "id": "DHf0epW_Zd6P"
      },
      "source": [
        "# Alunos com 14 anos ou menos, por estado.\n",
        "# Gráfico de pizza.\n",
        "alunos_menor_quatorze = dados.query(\"NU_IDADE <= 14\")\n",
        "alunos_menor_quatorze[\"SG_UF_RESIDENCIA\"].value_counts().plot.pie(figsize=(10,8))"
      ],
      "execution_count": null,
      "outputs": []
    },
    {
      "cell_type": "code",
      "metadata": {
        "id": "4hfQN1MY8r_Z"
      },
      "source": [
        "# Alunos com 14 anos ou menos, por estado.\n",
        "# Gráfico de barras.\n",
        "alunos_menor_quatorze = dados.query(\"NU_IDADE <= 14\")\n",
        "alunos_menor_quatorze[\"SG_UF_RESIDENCIA\"].value_counts().plot.bar(figsize=(10,8))"
      ],
      "execution_count": null,
      "outputs": []
    },
    {
      "cell_type": "code",
      "metadata": {
        "id": "dwrHzbEp59Iv"
      },
      "source": [
        "# Exercício\n",
        "# Gráfico de pizza por idade\n"
      ],
      "execution_count": null,
      "outputs": []
    },
    {
      "cell_type": "markdown",
      "metadata": {
        "id": "B6f3XGPrLuvv"
      },
      "source": [
        "# Referências"
      ]
    },
    {
      "cell_type": "markdown",
      "metadata": {
        "id": "RbMNO0Z-MFLw"
      },
      "source": [
        "* [Pandas (Site Oficial)](https://pandas.pydata.org/)\n",
        "* [Seus primeiros passos como Data Scientist: Introdução ao Pandas!](https://medium.com/data-hackers/uma-introdu%C3%A7%C3%A3o-simples-ao-pandas-1e15eea37fa1)\n",
        "* [Mineração de Dados usando pandas](https://minerandodados.com.br/analise-de-dados-com-python-usando-pandas/)"
      ]
    }
  ]
}